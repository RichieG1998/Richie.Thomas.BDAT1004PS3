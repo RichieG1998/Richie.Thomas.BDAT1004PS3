{
 "cells": [
  {
   "cell_type": "code",
   "execution_count": 14,
   "id": "1c8d413a",
   "metadata": {},
   "outputs": [],
   "source": [
    "#Question1\n",
    "# Step 1: Import the necessary libraries\n",
    "import pandas as pd\n",
    "\n",
    "# Step 2: Import the dataset from the address (assuming it's in the same directory)\n",
    "address = \"address.csv\"\n",
    "\n",
    "# Step 3: Assign it to a variable called users\n",
    "users = pd.read_csv(address, sep='|')\n"
   ]
  },
  {
   "cell_type": "code",
   "execution_count": 15,
   "id": "322de0b5",
   "metadata": {},
   "outputs": [
    {
     "name": "stdout",
     "output_type": "stream",
     "text": [
      "     user_id  age gender     occupation zip_code\n",
      "0          1   24      M     technician    85711\n",
      "1          2   53      F          other    94043\n",
      "2          3   23      M         writer    32067\n",
      "3          4   24      M     technician    43537\n",
      "4          5   33      F          other    15213\n",
      "..       ...  ...    ...            ...      ...\n",
      "938      939   26      F        student    33319\n",
      "939      940   32      M  administrator    02215\n",
      "940      941   20      M        student    97229\n",
      "941      942   48      F      librarian    78209\n",
      "942      943   22      M        student    77841\n",
      "\n",
      "[943 rows x 5 columns]\n"
     ]
    }
   ],
   "source": [
    "print(users)"
   ]
  },
  {
   "cell_type": "code",
   "execution_count": 16,
   "id": "e22fba17",
   "metadata": {},
   "outputs": [
    {
     "name": "stdout",
     "output_type": "stream",
     "text": [
      "Mean age per occupation:\n",
      "occupation\n",
      "administrator    38.746835\n",
      "artist           31.392857\n",
      "doctor           43.571429\n",
      "educator         42.010526\n",
      "engineer         36.388060\n",
      "entertainment    29.222222\n",
      "executive        38.718750\n",
      "healthcare       41.562500\n",
      "homemaker        32.571429\n",
      "lawyer           36.750000\n",
      "librarian        40.000000\n",
      "marketing        37.615385\n",
      "none             26.555556\n",
      "other            34.523810\n",
      "programmer       33.121212\n",
      "retired          63.071429\n",
      "salesman         35.666667\n",
      "scientist        35.548387\n",
      "student          22.081633\n",
      "technician       33.148148\n",
      "writer           36.311111\n",
      "Name: age, dtype: float64\n"
     ]
    }
   ],
   "source": [
    "# Step 4: Discover the mean age per occupation\n",
    "mean_age_per_occupation = users.groupby('occupation')['age'].mean()\n",
    "print(\"Mean age per occupation:\")\n",
    "print(mean_age_per_occupation)\n"
   ]
  },
  {
   "cell_type": "code",
   "execution_count": 17,
   "id": "266a3544",
   "metadata": {},
   "outputs": [
    {
     "name": "stdout",
     "output_type": "stream",
     "text": [
      "\n",
      "Male ratio per occupation (sorted):\n",
      "occupation\n",
      "doctor           1.000000\n",
      "engineer         0.970149\n",
      "technician       0.962963\n",
      "retired          0.928571\n",
      "programmer       0.909091\n",
      "executive        0.906250\n",
      "scientist        0.903226\n",
      "entertainment    0.888889\n",
      "lawyer           0.833333\n",
      "salesman         0.750000\n",
      "educator         0.726316\n",
      "student          0.693878\n",
      "other            0.657143\n",
      "marketing        0.615385\n",
      "writer           0.577778\n",
      "none             0.555556\n",
      "administrator    0.544304\n",
      "artist           0.535714\n",
      "librarian        0.431373\n",
      "healthcare       0.312500\n",
      "homemaker        0.142857\n",
      "Name: gender, dtype: float64\n"
     ]
    }
   ],
   "source": [
    "# Step 5: Discover the Male ratio per occupation and sort it from the most to the least\n",
    "male_ratio_per_occupation = users.groupby('occupation')['gender'].apply(lambda x: (x == 'M').mean()).sort_values(ascending=False)\n",
    "print(\"\\nMale ratio per occupation (sorted):\")\n",
    "print(male_ratio_per_occupation)"
   ]
  },
  {
   "cell_type": "code",
   "execution_count": 18,
   "id": "980643fd",
   "metadata": {},
   "outputs": [
    {
     "name": "stdout",
     "output_type": "stream",
     "text": [
      "\n",
      "Minimum and maximum ages per occupation:\n",
      "               min  max\n",
      "occupation             \n",
      "administrator   21   70\n",
      "artist          19   48\n",
      "doctor          28   64\n",
      "educator        23   63\n",
      "engineer        22   70\n",
      "entertainment   15   50\n",
      "executive       22   69\n",
      "healthcare      22   62\n",
      "homemaker       20   50\n",
      "lawyer          21   53\n",
      "librarian       23   69\n",
      "marketing       24   55\n",
      "none            11   55\n",
      "other           13   64\n",
      "programmer      20   63\n",
      "retired         51   73\n",
      "salesman        18   66\n",
      "scientist       23   55\n",
      "student          7   42\n",
      "technician      21   55\n",
      "writer          18   60\n"
     ]
    }
   ],
   "source": [
    "# Step 6: For each occupation, calculate the minimum and maximum ages\n",
    "min_max_age_per_occupation = users.groupby('occupation')['age'].agg(['min', 'max'])\n",
    "print(\"\\nMinimum and maximum ages per occupation:\")\n",
    "print(min_max_age_per_occupation)"
   ]
  },
  {
   "cell_type": "code",
   "execution_count": 19,
   "id": "d92449da",
   "metadata": {},
   "outputs": [
    {
     "name": "stdout",
     "output_type": "stream",
     "text": [
      "\n",
      "Mean age for each combination of occupation and sex:\n",
      "occupation     gender\n",
      "administrator  F         40.638889\n",
      "               M         37.162791\n",
      "artist         F         30.307692\n",
      "               M         32.333333\n",
      "doctor         M         43.571429\n",
      "educator       F         39.115385\n",
      "               M         43.101449\n",
      "engineer       F         29.500000\n",
      "               M         36.600000\n",
      "entertainment  F         31.000000\n",
      "               M         29.000000\n",
      "executive      F         44.000000\n",
      "               M         38.172414\n",
      "healthcare     F         39.818182\n",
      "               M         45.400000\n",
      "homemaker      F         34.166667\n",
      "               M         23.000000\n",
      "lawyer         F         39.500000\n",
      "               M         36.200000\n",
      "librarian      F         40.000000\n",
      "               M         40.000000\n",
      "marketing      F         37.200000\n",
      "               M         37.875000\n",
      "none           F         36.500000\n",
      "               M         18.600000\n",
      "other          F         35.472222\n",
      "               M         34.028986\n",
      "programmer     F         32.166667\n",
      "               M         33.216667\n",
      "retired        F         70.000000\n",
      "               M         62.538462\n",
      "salesman       F         27.000000\n",
      "               M         38.555556\n",
      "scientist      F         28.333333\n",
      "               M         36.321429\n",
      "student        F         20.750000\n",
      "               M         22.669118\n",
      "technician     F         38.000000\n",
      "               M         32.961538\n",
      "writer         F         37.631579\n",
      "               M         35.346154\n",
      "Name: age, dtype: float64\n"
     ]
    }
   ],
   "source": [
    "# Step 7: For each combination of occupation and sex, calculate the mean age\n",
    "mean_age_per_occupation_sex = users.groupby(['occupation', 'gender'])['age'].mean()\n",
    "print(\"\\nMean age for each combination of occupation and sex:\")\n",
    "print(mean_age_per_occupation_sex)\n"
   ]
  },
  {
   "cell_type": "code",
   "execution_count": 20,
   "id": "ff1f3acd",
   "metadata": {},
   "outputs": [
    {
     "name": "stdout",
     "output_type": "stream",
     "text": [
      "\n",
      "Percentage of women and men for each occupation:\n",
      "occupation     gender\n",
      "administrator  F         0.455696\n",
      "               M         0.544304\n",
      "artist         F         0.464286\n",
      "               M         0.535714\n",
      "doctor         M         1.000000\n",
      "educator       F         0.273684\n",
      "               M         0.726316\n",
      "engineer       F         0.029851\n",
      "               M         0.970149\n",
      "entertainment  F         0.111111\n",
      "               M         0.888889\n",
      "executive      F         0.093750\n",
      "               M         0.906250\n",
      "healthcare     F         0.687500\n",
      "               M         0.312500\n",
      "homemaker      F         0.857143\n",
      "               M         0.142857\n",
      "lawyer         F         0.166667\n",
      "               M         0.833333\n",
      "librarian      F         0.568627\n",
      "               M         0.431373\n",
      "marketing      F         0.384615\n",
      "               M         0.615385\n",
      "none           F         0.444444\n",
      "               M         0.555556\n",
      "other          F         0.342857\n",
      "               M         0.657143\n",
      "programmer     F         0.090909\n",
      "               M         0.909091\n",
      "retired        F         0.071429\n",
      "               M         0.928571\n",
      "salesman       F         0.250000\n",
      "               M         0.750000\n",
      "scientist      F         0.096774\n",
      "               M         0.903226\n",
      "student        F         0.306122\n",
      "               M         0.693878\n",
      "technician     F         0.037037\n",
      "               M         0.962963\n",
      "writer         F         0.422222\n",
      "               M         0.577778\n",
      "dtype: float64\n"
     ]
    }
   ],
   "source": [
    "# Step 8: For each occupation, present the percentage of women and men\n",
    "gender_percentage_per_occupation = users.groupby(['occupation', 'gender']).size() / users.groupby('occupation').size()\n",
    "print(\"\\nPercentage of women and men for each occupation:\")\n",
    "print(gender_percentage_per_occupation)"
   ]
  },
  {
   "cell_type": "code",
   "execution_count": 21,
   "id": "4b64d886",
   "metadata": {},
   "outputs": [],
   "source": [
    "#Question 2\n",
    "# Step 1: Import the necessary libraries\n",
    "import pandas as pd\n",
    "\n",
    "# Step 2: Import the dataset from the provided address (assuming it's in the same directory)\n",
    "euro = \"euro.csv\"\n",
    "\n",
    "# Step 3: Assign it to a variable called euro12\n",
    "euro12 = pd.read_csv(euro)"
   ]
  },
  {
   "cell_type": "code",
   "execution_count": 22,
   "id": "7cea7cc5",
   "metadata": {},
   "outputs": [
    {
     "name": "stdout",
     "output_type": "stream",
     "text": [
      "16\n"
     ]
    }
   ],
   "source": [
    "# Step 5: How many teams participated in the Euro2012?\n",
    "num_teams = euro12['Team'].nunique()\n",
    "print(num_teams)"
   ]
  },
  {
   "cell_type": "code",
   "execution_count": 23,
   "id": "0e0c24da",
   "metadata": {},
   "outputs": [
    {
     "name": "stdout",
     "output_type": "stream",
     "text": [
      "35\n"
     ]
    }
   ],
   "source": [
    "# Step 6: What is the number of columns in the dataset?\n",
    "num_columns = euro12.shape[1]\n",
    "print(num_columns)"
   ]
  },
  {
   "cell_type": "code",
   "execution_count": 24,
   "id": "2b87569b",
   "metadata": {},
   "outputs": [
    {
     "name": "stdout",
     "output_type": "stream",
     "text": [
      "                   Team  Yellow Cards  Red Cards\n",
      "0               Croatia             9          0\n",
      "1        Czech Republic             7          0\n",
      "2               Denmark             4          0\n",
      "3               England             5          0\n",
      "4                France             6          0\n",
      "5               Germany             4          0\n",
      "6                Greece             9          1\n",
      "7                 Italy            16          0\n",
      "8           Netherlands             5          0\n",
      "9                Poland             7          1\n",
      "10             Portugal            12          0\n",
      "11  Republic of Ireland             6          1\n",
      "12               Russia             6          0\n",
      "13                Spain            11          0\n",
      "14               Sweden             7          0\n",
      "15              Ukraine             5          0\n"
     ]
    }
   ],
   "source": [
    "# Step 7: View only the columns Team, Yellow Cards and Red Cards and assign them to a dataframe called discipline\n",
    "discipline = euro12[['Team', 'Yellow Cards', 'Red Cards']]\n",
    "print(discipline)"
   ]
  },
  {
   "cell_type": "code",
   "execution_count": 27,
   "id": "2536971d",
   "metadata": {},
   "outputs": [
    {
     "name": "stdout",
     "output_type": "stream",
     "text": [
      "                   Team  Yellow Cards  Red Cards\n",
      "6                Greece             9          1\n",
      "9                Poland             7          1\n",
      "11  Republic of Ireland             6          1\n",
      "7                 Italy            16          0\n",
      "10             Portugal            12          0\n",
      "13                Spain            11          0\n",
      "0               Croatia             9          0\n",
      "1        Czech Republic             7          0\n",
      "14               Sweden             7          0\n",
      "4                France             6          0\n",
      "12               Russia             6          0\n",
      "3               England             5          0\n",
      "8           Netherlands             5          0\n",
      "15              Ukraine             5          0\n",
      "2               Denmark             4          0\n",
      "5               Germany             4          0\n"
     ]
    }
   ],
   "source": [
    "# Step 8: Sort the teams by Red Cards, then by Yellow Cards\n",
    "discipline_sorted = discipline.sort_values(by=['Red Cards', 'Yellow Cards'], ascending=False)\n",
    "print(discipline_sorted)"
   ]
  },
  {
   "cell_type": "code",
   "execution_count": 29,
   "id": "b0a023da",
   "metadata": {},
   "outputs": [
    {
     "name": "stdout",
     "output_type": "stream",
     "text": [
      "Mean Yellow Cards given per Team:\n",
      "Team\n",
      "Croatia                 9.0\n",
      "Czech Republic          7.0\n",
      "Denmark                 4.0\n",
      "England                 5.0\n",
      "France                  6.0\n",
      "Germany                 4.0\n",
      "Greece                  9.0\n",
      "Italy                  16.0\n",
      "Netherlands             5.0\n",
      "Poland                  7.0\n",
      "Portugal               12.0\n",
      "Republic of Ireland     6.0\n",
      "Russia                  6.0\n",
      "Spain                  11.0\n",
      "Sweden                  7.0\n",
      "Ukraine                 5.0\n",
      "Name: Yellow Cards, dtype: float64\n"
     ]
    }
   ],
   "source": [
    "# Step 9: Calculate the mean Yellow Cards given per Team\n",
    "# Calculate the mean Yellow Cards given per Team\n",
    "mean_yellow_cards_per_team = discipline.groupby('Team')['Yellow Cards'].mean()\n",
    "\n",
    "# Display the mean Yellow Cards given per Team\n",
    "print(\"Mean Yellow Cards given per Team:\")\n",
    "print(mean_yellow_cards_per_team)"
   ]
  },
  {
   "cell_type": "code",
   "execution_count": 34,
   "id": "7aaad3c0",
   "metadata": {},
   "outputs": [
    {
     "name": "stdout",
     "output_type": "stream",
     "text": [
      "Teams that scored more than 6 goals:\n",
      "5     Germany\n",
      "13      Spain\n",
      "Name: Team, dtype: object\n"
     ]
    }
   ],
   "source": [
    "# Filter teams that scored more than 6 goals\n",
    "teams_more_than_6_goals = euro12[euro12['Goals'] > 6]\n",
    "\n",
    "# Print the teams that scored more than 6 goals\n",
    "print(\"Teams that scored more than 6 goals:\")\n",
    "print(teams_more_than_6_goals['Team'])"
   ]
  },
  {
   "cell_type": "code",
   "execution_count": 33,
   "id": "91d96652",
   "metadata": {},
   "outputs": [
    {
     "name": "stdout",
     "output_type": "stream",
     "text": [
      "Teams starting with G:\n",
      "5    Germany\n",
      "6     Greece\n",
      "Name: Team, dtype: object\n"
     ]
    }
   ],
   "source": [
    "# Select the teams that start with G\n",
    "teams_starting_with_G = euro12[euro12['Team'].str.startswith('G')]\n",
    "\n",
    "# Print the teams starting with G\n",
    "print(\"Teams starting with G:\")\n",
    "print(teams_starting_with_G['Team'])"
   ]
  },
  {
   "cell_type": "code",
   "execution_count": 36,
   "id": "b6900782",
   "metadata": {},
   "outputs": [
    {
     "name": "stdout",
     "output_type": "stream",
     "text": [
      "                   Team  Goals  Shots on target  Shots off target  \\\n",
      "0               Croatia      4               13                12   \n",
      "1        Czech Republic      4               13                18   \n",
      "2               Denmark      4               10                10   \n",
      "3               England      5               11                18   \n",
      "4                France      3               22                24   \n",
      "5               Germany     10               32                32   \n",
      "6                Greece      5                8                18   \n",
      "7                 Italy      6               34                45   \n",
      "8           Netherlands      2               12                36   \n",
      "9                Poland      2               15                23   \n",
      "10             Portugal      6               22                42   \n",
      "11  Republic of Ireland      1                7                12   \n",
      "12               Russia      5                9                31   \n",
      "13                Spain     12               42                33   \n",
      "14               Sweden      5               17                19   \n",
      "15              Ukraine      2                7                26   \n",
      "\n",
      "   Shooting Accuracy % Goals-to-shots  Total shots (inc. Blocked)  \n",
      "0              51.9%            16.0%                          32  \n",
      "1              41.9%            12.9%                          39  \n",
      "2              50.0%            20.0%                          27  \n",
      "3              50.0%            17.2%                          40  \n",
      "4              37.9%             6.5%                          65  \n",
      "5              47.8%            15.6%                          80  \n",
      "6              30.7%            19.2%                          32  \n",
      "7              43.0%             7.5%                         110  \n",
      "8              25.0%             4.1%                          60  \n",
      "9              39.4%             5.2%                          48  \n",
      "10             34.3%             9.3%                          82  \n",
      "11             36.8%             5.2%                          28  \n",
      "12             22.5%            12.5%                          59  \n",
      "13             55.9%            16.0%                         100  \n",
      "14             47.2%            13.8%                          39  \n",
      "15             21.2%             6.0%                          38  \n"
     ]
    }
   ],
   "source": [
    "# Step 12: Select the first 7 columns\n",
    "first_7_columns = euro12.iloc[:, :7]\n",
    "print(first_7_columns)"
   ]
  },
  {
   "cell_type": "code",
   "execution_count": 37,
   "id": "f346e6aa",
   "metadata": {},
   "outputs": [
    {
     "name": "stdout",
     "output_type": "stream",
     "text": [
      "                   Team  Goals  Shots on target  Shots off target  \\\n",
      "0               Croatia      4               13                12   \n",
      "1        Czech Republic      4               13                18   \n",
      "2               Denmark      4               10                10   \n",
      "3               England      5               11                18   \n",
      "4                France      3               22                24   \n",
      "5               Germany     10               32                32   \n",
      "6                Greece      5                8                18   \n",
      "7                 Italy      6               34                45   \n",
      "8           Netherlands      2               12                36   \n",
      "9                Poland      2               15                23   \n",
      "10             Portugal      6               22                42   \n",
      "11  Republic of Ireland      1                7                12   \n",
      "12               Russia      5                9                31   \n",
      "13                Spain     12               42                33   \n",
      "14               Sweden      5               17                19   \n",
      "15              Ukraine      2                7                26   \n",
      "\n",
      "   Shooting Accuracy % Goals-to-shots  Total shots (inc. Blocked)  \\\n",
      "0              51.9%            16.0%                          32   \n",
      "1              41.9%            12.9%                          39   \n",
      "2              50.0%            20.0%                          27   \n",
      "3              50.0%            17.2%                          40   \n",
      "4              37.9%             6.5%                          65   \n",
      "5              47.8%            15.6%                          80   \n",
      "6              30.7%            19.2%                          32   \n",
      "7              43.0%             7.5%                         110   \n",
      "8              25.0%             4.1%                          60   \n",
      "9              39.4%             5.2%                          48   \n",
      "10             34.3%             9.3%                          82   \n",
      "11             36.8%             5.2%                          28   \n",
      "12             22.5%            12.5%                          59   \n",
      "13             55.9%            16.0%                         100   \n",
      "14             47.2%            13.8%                          39   \n",
      "15             21.2%             6.0%                          38   \n",
      "\n",
      "    Hit Woodwork  Penalty goals  Penalties not scored  ...  Clean Sheets  \\\n",
      "0              0              0                     0  ...             0   \n",
      "1              0              0                     0  ...             1   \n",
      "2              1              0                     0  ...             1   \n",
      "3              0              0                     0  ...             2   \n",
      "4              1              0                     0  ...             1   \n",
      "5              2              1                     0  ...             1   \n",
      "6              1              1                     1  ...             1   \n",
      "7              2              0                     0  ...             2   \n",
      "8              2              0                     0  ...             0   \n",
      "9              0              0                     0  ...             0   \n",
      "10             6              0                     0  ...             2   \n",
      "11             0              0                     0  ...             0   \n",
      "12             2              0                     0  ...             0   \n",
      "13             0              1                     0  ...             5   \n",
      "14             3              0                     0  ...             1   \n",
      "15             0              0                     0  ...             0   \n",
      "\n",
      "    Blocks  Goals conceded Saves made  Saves-to-shots ratio  Fouls Won  \\\n",
      "0       10               3         13                 81.3%         41   \n",
      "1       10               6          9                 60.1%         53   \n",
      "2       10               5         10                 66.7%         25   \n",
      "3       29               3         22                 88.1%         43   \n",
      "4        7               5          6                 54.6%         36   \n",
      "5       11               6         10                 62.6%         63   \n",
      "6       23               7         13                 65.1%         67   \n",
      "7       18               7         20                 74.1%        101   \n",
      "8        9               5         12                 70.6%         35   \n",
      "9        8               3          6                 66.7%         48   \n",
      "10      11               4         10                 71.5%         73   \n",
      "11      23               9         17                 65.4%         43   \n",
      "12       8               3         10                 77.0%         34   \n",
      "13       8               1         15                 93.8%        102   \n",
      "14      12               5          8                 61.6%         35   \n",
      "15       4               4         13                 76.5%         48   \n",
      "\n",
      "    Fouls Conceded  Offsides  Yellow Cards  Red Cards  \n",
      "0               62         2             9          0  \n",
      "1               73         8             7          0  \n",
      "2               38         8             4          0  \n",
      "3               45         6             5          0  \n",
      "4               51         5             6          0  \n",
      "5               49        12             4          0  \n",
      "6               48        12             9          1  \n",
      "7               89        16            16          0  \n",
      "8               30         3             5          0  \n",
      "9               56         3             7          1  \n",
      "10              90        10            12          0  \n",
      "11              51        11             6          1  \n",
      "12              43         4             6          0  \n",
      "13              83        19            11          0  \n",
      "14              51         7             7          0  \n",
      "15              31         4             5          0  \n",
      "\n",
      "[16 rows x 32 columns]\n"
     ]
    }
   ],
   "source": [
    "# Step 13: Select all columns except the last 3\n",
    "all_except_last_3_columns = euro12.iloc[:, :-3]\n",
    "print(all_except_last_3_columns)"
   ]
  },
  {
   "cell_type": "code",
   "execution_count": 38,
   "id": "791b2674",
   "metadata": {},
   "outputs": [
    {
     "name": "stdout",
     "output_type": "stream",
     "text": [
      "       Team Shooting Accuracy\n",
      "3   England             50.0%\n",
      "7     Italy             43.0%\n",
      "12   Russia             22.5%\n"
     ]
    }
   ],
   "source": [
    "# Step 14: Present only the Shooting Accuracy from England, Italy, and Russia\n",
    "shooting_accuracy = euro12.loc[euro12['Team'].isin(['England', 'Italy', 'Russia']), ['Team', 'Shooting Accuracy']]\n",
    "print(shooting_accuracy)"
   ]
  },
  {
   "cell_type": "code",
   "execution_count": 1,
   "id": "2eee2704",
   "metadata": {},
   "outputs": [],
   "source": [
    "#Question 3\n",
    "# Step 1: Import the necessary libraries\n",
    "import pandas as pd\n",
    "import numpy as np\n",
    "\n",
    "# Step 2: Create 3 different Series\n",
    "series1 = pd.Series(np.random.randint(1, 5, size=100))  # Random number from 1 to 4\n",
    "series2 = pd.Series(np.random.randint(1, 4, size=100))  # Random number from 1 to 3\n",
    "series3 = pd.Series(np.random.randint(10000, 30001, size=100))  # Random number from 10000 to 30000\n"
   ]
  },
  {
   "cell_type": "code",
   "execution_count": 3,
   "id": "ecad55ea",
   "metadata": {},
   "outputs": [
    {
     "name": "stdout",
     "output_type": "stream",
     "text": [
      "    0  1      2\n",
      "0   3  2  12960\n",
      "1   2  2  21648\n",
      "2   3  3  15119\n",
      "3   4  3  25421\n",
      "4   4  2  25014\n",
      ".. .. ..    ...\n",
      "95  2  1  24493\n",
      "96  2  1  25173\n",
      "97  3  1  10012\n",
      "98  4  2  22749\n",
      "99  2  1  20788\n",
      "\n",
      "[100 rows x 3 columns]\n"
     ]
    }
   ],
   "source": [
    "# Step 3: Create a DataFrame by joining the Series by column\n",
    "df = pd.concat([series1, series2, series3], axis=1)\n",
    "print(df)"
   ]
  },
  {
   "cell_type": "code",
   "execution_count": 4,
   "id": "b0f8dbc6",
   "metadata": {},
   "outputs": [],
   "source": [
    "# Step 4: Change the name of the columns\n",
    "df.columns = ['bedrs', 'bathrs', 'price_sqr_meter']\n"
   ]
  },
  {
   "cell_type": "code",
   "execution_count": 5,
   "id": "540ede8e",
   "metadata": {},
   "outputs": [
    {
     "name": "stdout",
     "output_type": "stream",
     "text": [
      "0         3\n",
      "1         2\n",
      "2         3\n",
      "3         4\n",
      "4         4\n",
      "      ...  \n",
      "95    24493\n",
      "96    25173\n",
      "97    10012\n",
      "98    22749\n",
      "99    20788\n",
      "Length: 300, dtype: int32\n"
     ]
    }
   ],
   "source": [
    "# Step 5: Create a one column DataFrame with the values of the 3 Series and assign it to 'bigcolumn'\n",
    "bigcolumn = pd.concat([series1, series2, series3], axis=0)\n",
    "print(bigcolumn)"
   ]
  },
  {
   "cell_type": "code",
   "execution_count": 6,
   "id": "75d8bfb0",
   "metadata": {},
   "outputs": [
    {
     "name": "stdout",
     "output_type": "stream",
     "text": [
      "Is it going only until index 99? True\n"
     ]
    }
   ],
   "source": [
    "# Step 6: Check if it's going only until index 99\n",
    "print(\"Is it going only until index 99?\", bigcolumn.index.max() == 99)"
   ]
  },
  {
   "cell_type": "code",
   "execution_count": 7,
   "id": "dc862eeb",
   "metadata": {},
   "outputs": [],
   "source": [
    "# Step 7: Reindex the DataFrame so it goes from 0 to 299\n",
    "bigcolumn.reset_index(drop=True, inplace=True)\n"
   ]
  },
  {
   "cell_type": "code",
   "execution_count": 8,
   "id": "d8bbdd77",
   "metadata": {},
   "outputs": [
    {
     "name": "stdout",
     "output_type": "stream",
     "text": [
      "\n",
      "DataFrame with reindexed indices:\n",
      "0          3\n",
      "1          2\n",
      "2          3\n",
      "3          4\n",
      "4          4\n",
      "       ...  \n",
      "295    24493\n",
      "296    25173\n",
      "297    10012\n",
      "298    22749\n",
      "299    20788\n",
      "Length: 300, dtype: int32\n"
     ]
    }
   ],
   "source": [
    "# Print the DataFrame\n",
    "print(\"\\nDataFrame with reindexed indices:\")\n",
    "print(bigcolumn)"
   ]
  },
  {
   "cell_type": "code",
   "execution_count": 23,
   "id": "b416c897",
   "metadata": {},
   "outputs": [],
   "source": [
    "#Question 4\n",
    "# Step 1: Import the necessary libraries\n",
    "import pandas as pd\n",
    "import numpy as np\n",
    "\n",
    "# Step 2: Import the dataset from the attached file wind.txt\n",
    "data = pd.read_csv(\"wind.txt\", sep='\\s+')\n",
    "\n",
    "\n"
   ]
  },
  {
   "cell_type": "code",
   "execution_count": 32,
   "id": "c3914cef",
   "metadata": {},
   "outputs": [
    {
     "name": "stdout",
     "output_type": "stream",
     "text": [
      "              RPT    VAL    ROS    KIL    SHA    BIR    DUB    CLA    MUL  \\\n",
      "Date                                                                        \n",
      "2061-01-01  15.04  14.96  13.17   9.29    NaN   9.87  13.67  10.25  10.83   \n",
      "2061-01-02  14.71    NaN  10.83   6.50  12.62   7.67  11.50  10.04   9.79   \n",
      "2061-01-03  18.50  16.88  12.33  10.13  11.17   6.17  11.25    NaN   8.50   \n",
      "2061-01-04  10.58   6.63  11.75   4.58   4.54   2.88   8.63   1.79   5.83   \n",
      "2061-01-05  13.33  13.25  11.42   6.17  10.71   8.21  11.92   6.54  10.92   \n",
      "...           ...    ...    ...    ...    ...    ...    ...    ...    ...   \n",
      "1978-12-27  17.58  16.96  17.62   8.08  13.21  11.67  14.46  15.59  14.04   \n",
      "1978-12-28  13.21   5.46  13.46   5.00   8.12   9.42  14.33  16.25  15.25   \n",
      "1978-12-29  14.00  10.29  14.42   8.71   9.71  10.54  19.17  12.46  14.50   \n",
      "1978-12-30  18.50  14.04  21.29   9.13  12.75   9.71  18.08  12.87  12.46   \n",
      "1978-12-31  20.33  17.41  27.29   9.59  12.08  10.13  19.25  11.63  11.58   \n",
      "\n",
      "              CLO    BEL    MAL  \n",
      "Date                             \n",
      "2061-01-01  12.58  18.50  15.04  \n",
      "2061-01-02   9.67  17.54  13.83  \n",
      "2061-01-03   7.67  12.75  12.71  \n",
      "2061-01-04   5.88   5.46  10.88  \n",
      "2061-01-05  10.34  12.92  11.83  \n",
      "...           ...    ...    ...  \n",
      "1978-12-27  14.00  17.21  40.08  \n",
      "1978-12-28  18.05  21.79  41.46  \n",
      "1978-12-29  16.42  18.88  29.58  \n",
      "1978-12-30  12.12  14.67  28.79  \n",
      "1978-12-31  11.38  12.08  22.08  \n",
      "\n",
      "[6574 rows x 12 columns]\n"
     ]
    }
   ],
   "source": [
    "\n",
    "import pandas as pd\n",
    "\n",
    "# Step 2: Import the dataset from the attached file wind.txt\n",
    "try:\n",
    "    data = pd.read_csv(\"wind.txt\", sep='\\s+')\n",
    "except FileNotFoundError:\n",
    "    print(\"File not found. Please check the file path.\")\n",
    "except Exception as e:\n",
    "    print(\"An error occurred while reading the file:\", e)\n",
    "\n",
    "# Check the column names to verify if 'Yr', 'Mo', and 'Dy' columns exist\n",
    "#print(\"Column names:\", data.columns)\n",
    "\n",
    "# Combine the first 3 columns into a single datetime index\n",
    "try:\n",
    "    data['Date'] = pd.to_datetime(data['Yr'].astype(str) + data['Mo'].astype(str).str.zfill(2) + data['Dy'].astype(str).str.zfill(2), format='%y%m%d')\n",
    "except KeyError:\n",
    "    print(\"Column 'Yr', 'Mo', or 'Dy' not found. Please verify column names.\")\n",
    "except Exception as e:\n",
    "    print(\"An error occurred while converting to datetime:\", e)\n",
    "\n",
    "# Set the combined datetime index as the index of the DataFrame\n",
    "try:\n",
    "    data.set_index('Date', inplace=True)\n",
    "except KeyError:\n",
    "    print(\"Column 'Date' not found. Please verify column names.\")\n",
    "except Exception as e:\n",
    "    print(\"An error occurred while setting index:\", e)\n",
    "\n",
    "# Drop the individual 'Yr', 'Mo', and 'Dy' columns\n",
    "try:\n",
    "    data.drop(columns=['Yr', 'Mo', 'Dy'], inplace=True)\n",
    "except KeyError:\n",
    "    print(\"Columns 'Yr', 'Mo', or 'Dy' not found. Please verify column names.\")\n",
    "except Exception as e:\n",
    "    print(\"An error occurred while dropping columns:\", e)\n",
    "\n",
    "print(data)\n"
   ]
  },
  {
   "cell_type": "code",
   "execution_count": 33,
   "id": "fdd61f73",
   "metadata": {},
   "outputs": [],
   "source": [
    "# Step 4: Year 2061? Do we really have data from this year? Create a function to fix it and apply it\n",
    "def fix_year(x):\n",
    "    year = x.year - 100 if x.year > 1989 else x.year\n",
    "    return pd.Timestamp(year, x.month, x.day)\n",
    "\n",
    "data.index = data.index.map(fix_year)"
   ]
  },
  {
   "cell_type": "code",
   "execution_count": 34,
   "id": "df5b7aab",
   "metadata": {},
   "outputs": [
    {
     "name": "stdout",
     "output_type": "stream",
     "text": [
      "              RPT    VAL    ROS    KIL    SHA    BIR    DUB    CLA    MUL  \\\n",
      "Date                                                                        \n",
      "1961-01-01  15.04  14.96  13.17   9.29    NaN   9.87  13.67  10.25  10.83   \n",
      "1961-01-02  14.71    NaN  10.83   6.50  12.62   7.67  11.50  10.04   9.79   \n",
      "1961-01-03  18.50  16.88  12.33  10.13  11.17   6.17  11.25    NaN   8.50   \n",
      "1961-01-04  10.58   6.63  11.75   4.58   4.54   2.88   8.63   1.79   5.83   \n",
      "1961-01-05  13.33  13.25  11.42   6.17  10.71   8.21  11.92   6.54  10.92   \n",
      "...           ...    ...    ...    ...    ...    ...    ...    ...    ...   \n",
      "1978-12-27  17.58  16.96  17.62   8.08  13.21  11.67  14.46  15.59  14.04   \n",
      "1978-12-28  13.21   5.46  13.46   5.00   8.12   9.42  14.33  16.25  15.25   \n",
      "1978-12-29  14.00  10.29  14.42   8.71   9.71  10.54  19.17  12.46  14.50   \n",
      "1978-12-30  18.50  14.04  21.29   9.13  12.75   9.71  18.08  12.87  12.46   \n",
      "1978-12-31  20.33  17.41  27.29   9.59  12.08  10.13  19.25  11.63  11.58   \n",
      "\n",
      "              CLO    BEL    MAL  \n",
      "Date                             \n",
      "1961-01-01  12.58  18.50  15.04  \n",
      "1961-01-02   9.67  17.54  13.83  \n",
      "1961-01-03   7.67  12.75  12.71  \n",
      "1961-01-04   5.88   5.46  10.88  \n",
      "1961-01-05  10.34  12.92  11.83  \n",
      "...           ...    ...    ...  \n",
      "1978-12-27  14.00  17.21  40.08  \n",
      "1978-12-28  18.05  21.79  41.46  \n",
      "1978-12-29  16.42  18.88  29.58  \n",
      "1978-12-30  12.12  14.67  28.79  \n",
      "1978-12-31  11.38  12.08  22.08  \n",
      "\n",
      "[6574 rows x 12 columns]\n"
     ]
    }
   ],
   "source": [
    "# Step 5: Set the right dates as the index. Pay attention at the data type, it should be datetime64[ns]\n",
    "data.index = pd.to_datetime(data.index)\n",
    "print(data)"
   ]
  },
  {
   "cell_type": "code",
   "execution_count": 35,
   "id": "1c4fa645",
   "metadata": {},
   "outputs": [
    {
     "name": "stdout",
     "output_type": "stream",
     "text": [
      "RPT    6\n",
      "VAL    3\n",
      "ROS    2\n",
      "KIL    5\n",
      "SHA    2\n",
      "BIR    0\n",
      "DUB    3\n",
      "CLA    2\n",
      "MUL    3\n",
      "CLO    1\n",
      "BEL    0\n",
      "MAL    4\n",
      "dtype: int64\n"
     ]
    }
   ],
   "source": [
    "# Step 6: Compute how many values are missing for each location over the entire record. They should be ignored in all calculations below\n",
    "missing_values = data.isnull().sum()\n",
    "print(missing_values)"
   ]
  },
  {
   "cell_type": "code",
   "execution_count": 36,
   "id": "e7482cda",
   "metadata": {},
   "outputs": [
    {
     "name": "stdout",
     "output_type": "stream",
     "text": [
      "78857\n"
     ]
    }
   ],
   "source": [
    "# Step 7: Compute how many non-missing values there are in total\n",
    "non_missing_values = data.notnull().sum().sum()\n",
    "print(non_missing_values)"
   ]
  },
  {
   "cell_type": "code",
   "execution_count": 37,
   "id": "606ee937",
   "metadata": {},
   "outputs": [
    {
     "name": "stdout",
     "output_type": "stream",
     "text": [
      "10.227982360836938\n"
     ]
    }
   ],
   "source": [
    "# Step 8: Calculate the mean windspeeds of the windspeeds over all the locations and all the times. A single number for the entire dataset\n",
    "mean_windspeed = data.mean().mean()\n",
    "print(mean_windspeed)"
   ]
  },
  {
   "cell_type": "code",
   "execution_count": 38,
   "id": "b7cab47f",
   "metadata": {},
   "outputs": [
    {
     "name": "stdout",
     "output_type": "stream",
     "text": [
      "      min    max       mean       std\n",
      "RPT  0.67  35.80  12.362987  5.618413\n",
      "VAL  0.21  33.37  10.644314  5.267356\n",
      "ROS  1.50  33.84  11.660526  5.008450\n",
      "KIL  0.00  28.46   6.306468  3.605811\n",
      "SHA  0.13  37.54  10.455834  4.936125\n",
      "BIR  0.00  26.16   7.092254  3.968683\n",
      "DUB  0.00  30.37   9.797343  4.977555\n",
      "CLA  0.00  31.08   8.495053  4.499449\n",
      "MUL  0.00  25.88   8.493590  4.166872\n",
      "CLO  0.04  28.21   8.707332  4.503954\n",
      "BEL  0.13  42.38  13.121007  5.835037\n",
      "MAL  0.67  42.54  15.599079  6.699794\n"
     ]
    }
   ],
   "source": [
    "# Step 9: Create a DataFrame called loc_stats and calculate the min, max, and mean windspeeds and standard deviations of the windspeeds at each location over all the days\n",
    "loc_stats = pd.DataFrame()\n",
    "loc_stats['min'] = data.min()\n",
    "loc_stats['max'] = data.max()\n",
    "loc_stats['mean'] = data.mean()\n",
    "loc_stats['std'] = data.std()\n",
    "print(loc_stats)"
   ]
  },
  {
   "cell_type": "code",
   "execution_count": 39,
   "id": "fc031d82",
   "metadata": {},
   "outputs": [
    {
     "name": "stdout",
     "output_type": "stream",
     "text": [
      "             min    max       mean       std\n",
      "Date                                        \n",
      "1961-01-01  9.29  18.50  13.018182  2.808875\n",
      "1961-01-02  6.50  17.54  11.336364  3.188994\n",
      "1961-01-03  6.17  18.50  11.641818  3.681912\n",
      "1961-01-04  1.79  11.75   6.619167  3.198126\n",
      "1961-01-05  6.17  13.33  10.630000  2.445356\n",
      "...          ...    ...        ...       ...\n",
      "1978-12-27  8.08  40.08  16.708333  7.868076\n",
      "1978-12-28  5.00  41.46  15.150000  9.687857\n",
      "1978-12-29  8.71  29.58  14.890000  5.756836\n",
      "1978-12-30  9.13  28.79  15.367500  5.540437\n",
      "1978-12-31  9.59  27.29  15.402500  5.702483\n",
      "\n",
      "[6574 rows x 4 columns]\n"
     ]
    }
   ],
   "source": [
    "# Step 10: Create a DataFrame called day_stats and calculate the min, max, and mean windspeed and standard deviations of the windspeeds across all the locations at each day\n",
    "day_stats = pd.DataFrame()\n",
    "day_stats['min'] = data.min(axis=1)\n",
    "day_stats['max'] = data.max(axis=1)\n",
    "day_stats['mean'] = data.mean(axis=1)\n",
    "day_stats['std'] = data.std(axis=1)\n",
    "print(day_stats)"
   ]
  },
  {
   "cell_type": "code",
   "execution_count": 40,
   "id": "af91bbcc",
   "metadata": {},
   "outputs": [
    {
     "name": "stdout",
     "output_type": "stream",
     "text": [
      "RPT    14.847325\n",
      "VAL    12.914560\n",
      "ROS    13.299624\n",
      "KIL     7.199498\n",
      "SHA    11.667734\n",
      "BIR     8.054839\n",
      "DUB    11.819355\n",
      "CLA     9.512047\n",
      "MUL     9.543208\n",
      "CLO    10.053566\n",
      "BEL    14.550520\n",
      "MAL    18.028763\n",
      "dtype: float64\n"
     ]
    }
   ],
   "source": [
    "# Step 11: Find the average windspeed in January for each location. Treat January 1961 and January 1962 both as January\n",
    "january_data = data[data.index.month == 1]\n",
    "january_mean = january_data.mean()\n",
    "print(january_mean)"
   ]
  },
  {
   "cell_type": "code",
   "execution_count": 42,
   "id": "becaa944",
   "metadata": {},
   "outputs": [
    {
     "name": "stdout",
     "output_type": "stream",
     "text": [
      "                  RPT        VAL        ROS       KIL        SHA       BIR  \\\n",
      "Date                                                                         \n",
      "1961-12-31  12.299583  10.351796  11.362369  6.958227  10.881763  7.729726   \n",
      "1962-12-31  12.246923  10.110438  11.732712  6.960440  10.657918  7.393068   \n",
      "1963-12-31  12.813452  10.836986  12.541151  7.330055  11.724110  8.434712   \n",
      "1964-12-31  12.363661  10.920164  12.104372  6.787787  11.454481  7.570874   \n",
      "1965-12-31  12.451370  11.075534  11.848767  6.858466  11.024795  7.478110   \n",
      "1966-12-31  13.461973  11.557205  12.020630  7.345726  11.805041  7.793671   \n",
      "1967-12-31  12.737151  10.990986  11.739397  7.143425  11.630740  7.368164   \n",
      "1968-12-31  11.835628  10.468197  11.409754  6.477678  10.760765  6.067322   \n",
      "1969-12-31  11.166356   9.723699  10.902000  5.767973   9.873918  6.189973   \n",
      "1970-12-31  12.600329  10.726932  11.730247  6.217178  10.567370  7.609452   \n",
      "1971-12-31  11.273123   9.095178  11.088329  5.241507   9.440329  6.097151   \n",
      "1972-12-31  12.463962  10.561311  12.058333  5.929699   9.430410  6.358825   \n",
      "1973-12-31  11.828466  10.680493  10.680493  5.547863   9.640877  6.548740   \n",
      "1974-12-31  13.643096  11.811781  12.336356  6.427041  11.110986  6.809781   \n",
      "1975-12-31  12.008575  10.293836  11.564712  5.269096   9.190082  5.668521   \n",
      "1976-12-31  11.737842  10.203115  10.761230  5.109426   8.846339  6.311038   \n",
      "1977-12-31  13.099616  11.144493  12.627836  6.073945  10.003836  8.586438   \n",
      "1978-12-31  12.504356  11.044274  11.380000  6.082356  10.167233  7.650658   \n",
      "\n",
      "                  DUB        CLA       MUL        CLO        BEL        MAL  \n",
      "Date                                                                         \n",
      "1961-12-31   9.733923   8.858788  8.647652   9.835577  13.502795  13.680773  \n",
      "1962-12-31  11.020712   8.793753  8.316822   9.676247  12.930685  14.323956  \n",
      "1963-12-31  11.075699  10.336548  8.903589  10.224438  13.638877  14.999014  \n",
      "1964-12-31  10.259153   9.467350  7.789016  10.207951  13.740546  14.910301  \n",
      "1965-12-31  10.618712   8.879918  7.907425   9.918082  12.964247  15.591644  \n",
      "1966-12-31  10.579808   8.835096  8.514438   9.768959  14.265836  16.307260  \n",
      "1967-12-31  10.652027   9.325616  8.645014   9.547425  14.774548  17.135945  \n",
      "1968-12-31   8.859180   8.255519  7.224945   7.832978  12.808634  15.017486  \n",
      "1969-12-31   8.564493   7.711397  7.924521   7.754384  12.621233  15.762904  \n",
      "1970-12-31   9.609890   8.334630  9.297616   8.289808  13.183644  16.456027  \n",
      "1971-12-31   8.385890   6.757315  7.915370   7.229753  12.208932  15.025233  \n",
      "1972-12-31   9.704508   7.680792  8.357295   7.515273  12.727377  15.028716  \n",
      "1973-12-31   8.482110   7.614274  8.245534   7.812411  12.169699  15.441096  \n",
      "1974-12-31  10.084603   9.896986  9.331753   8.736356  13.252959  16.947671  \n",
      "1975-12-31   8.562603   7.843836  8.797945   7.382822  12.631671  15.307863  \n",
      "1976-12-31   9.149126   7.146202  8.883716   7.883087  12.332377  15.471448  \n",
      "1977-12-31  11.523205   8.378384  9.098192   8.821616  13.459068  16.590849  \n",
      "1978-12-31   9.489342   8.800466  9.089753   8.301699  12.967397  16.771370  \n"
     ]
    }
   ],
   "source": [
    "# Step 12: Downsample the record to a yearly frequency for each location\n",
    "yearly_data = data.resample('YE').mean()\n",
    "print(yearly_data)"
   ]
  },
  {
   "cell_type": "code",
   "execution_count": 44,
   "id": "b65835fa",
   "metadata": {},
   "outputs": [
    {
     "name": "stdout",
     "output_type": "stream",
     "text": [
      "                  RPT        VAL        ROS       KIL        SHA        BIR  \\\n",
      "Date                                                                          \n",
      "1961-01-31  14.841333  11.988333  13.431613  7.736774  11.072759   8.588065   \n",
      "1961-02-28  16.269286  14.975357  14.441481  9.230741  13.852143  10.937500   \n",
      "1961-03-31  10.890000  11.296452  10.752903  7.284000  10.509355   8.866774   \n",
      "1961-04-30  10.722667   9.427667   9.998000  5.830667   8.435000   6.495000   \n",
      "1961-05-31   9.860968   8.850000  10.818065  5.905333   9.490323   6.574839   \n",
      "...               ...        ...        ...       ...        ...        ...   \n",
      "1978-08-31   9.645161   8.259355   9.032258  4.502903   7.368065   5.935161   \n",
      "1978-09-30  10.913667  10.895000  10.635000  5.725000  10.372000   9.278333   \n",
      "1978-10-31   9.897742   8.670968   9.295806  4.721290   8.525161   6.774194   \n",
      "1978-11-30  16.151667  14.802667  13.508000  7.317333  11.475000   8.743000   \n",
      "1978-12-31  16.175484  13.748065  15.635161  7.094839  11.398710   9.241613   \n",
      "\n",
      "                  DUB        CLA        MUL        CLO        BEL        MAL  \n",
      "Date                                                                          \n",
      "1961-01-31  11.184839   9.245333   9.085806  10.107419  13.880968  14.703226  \n",
      "1961-02-28  11.890714  11.846071  11.821429  12.714286  18.583214  15.411786  \n",
      "1961-03-31   9.644194   9.829677  10.294138  11.251935  16.410968  15.720000  \n",
      "1961-04-30   6.925333   7.094667   7.342333   7.237000  11.147333  10.278333  \n",
      "1961-05-31   7.604000   8.177097   8.039355   8.499355  11.900323  12.011613  \n",
      "...               ...        ...        ...        ...        ...        ...  \n",
      "1978-08-31   5.650323   5.417742   7.241290   5.536774  10.466774  12.054194  \n",
      "1978-09-30  10.790333   9.583000  10.069333   8.939000  15.680333  19.391333  \n",
      "1978-10-31   8.115484   7.337742   8.297742   8.243871  13.776774  17.150000  \n",
      "1978-11-30  11.492333   9.657333  10.701333  10.676000  17.404667  20.723000  \n",
      "1978-12-31  12.077419  10.194839  10.616774  11.028710  13.859677  21.371613  \n",
      "\n",
      "[216 rows x 12 columns]\n"
     ]
    }
   ],
   "source": [
    "# Step 13: Downsample the record to a monthly frequency for each location\n",
    "monthly_data = data.resample('ME').mean()\n",
    "print(monthly_data)"
   ]
  },
  {
   "cell_type": "code",
   "execution_count": 46,
   "id": "3f3278c0",
   "metadata": {},
   "outputs": [
    {
     "name": "stdout",
     "output_type": "stream",
     "text": [
      "                  RPT        VAL        ROS        KIL        SHA        BIR  \\\n",
      "Date                                                                           \n",
      "1961-01-01  15.040000  14.960000  13.170000   9.290000        NaN   9.870000   \n",
      "1961-01-08  13.541429  11.486667  10.487143   6.417143   9.474286   6.435714   \n",
      "1961-01-15  12.468571   8.967143  11.958571   4.630000   7.351429   5.072857   \n",
      "1961-01-22  13.204286   9.862857  12.982857   6.328571   8.966667   7.417143   \n",
      "1961-01-29  19.880000  16.141429  18.225714  12.720000  17.432857  14.828571   \n",
      "...               ...        ...        ...        ...        ...        ...   \n",
      "1978-12-03  14.934286  11.232857  13.941429   5.565714  10.215714   8.618571   \n",
      "1978-12-10  20.740000  19.190000  17.034286   9.777143  15.287143  12.774286   \n",
      "1978-12-17  16.758571  14.692857  14.987143   6.917143  11.397143   7.272857   \n",
      "1978-12-24  11.155714   8.008571  13.172857   4.004286   7.825714   6.290000   \n",
      "1978-12-31  14.951429  11.801429  16.035714   6.507143   9.660000   8.620000   \n",
      "\n",
      "                  DUB        CLA        MUL        CLO        BEL        MAL  \n",
      "Date                                                                          \n",
      "1961-01-01  13.670000  10.250000  10.830000  12.580000  18.500000  15.040000  \n",
      "1961-01-08  11.061429   6.616667   8.434286   8.497143  12.481429  13.238571  \n",
      "1961-01-15   7.535714   6.820000   5.712857   7.571429  11.125714  11.024286  \n",
      "1961-01-22   9.257143   7.875714   7.145714   8.124286   9.821429  11.434286  \n",
      "1961-01-29  15.528571  15.160000  14.480000  15.640000  20.930000  22.530000  \n",
      "...               ...        ...        ...        ...        ...        ...  \n",
      "1978-12-03   9.642857   7.685714   9.011429   9.547143  11.835714  18.728571  \n",
      "1978-12-10  14.437143  12.488571  13.870000  14.082857  18.517143  23.061429  \n",
      "1978-12-17  10.208571   7.967143   9.168571   8.565714  11.102857  15.562857  \n",
      "1978-12-24   7.798571   8.667143   7.151429   8.072857  11.845714  18.977143  \n",
      "1978-12-31  13.708571  10.477143  10.868571  11.471429  12.947143  26.844286  \n",
      "\n",
      "[940 rows x 12 columns]\n"
     ]
    }
   ],
   "source": [
    "# Step 14: Downsample the record to a weekly frequency for each location\n",
    "weekly_data = data.resample('W').mean()\n",
    "print(weekly_data)"
   ]
  },
  {
   "cell_type": "code",
   "execution_count": 47,
   "id": "76160af6",
   "metadata": {},
   "outputs": [
    {
     "name": "stdout",
     "output_type": "stream",
     "text": [
      "                  min        max       mean       std\n",
      "Date                                                 \n",
      "1961-01-01  13.018182  13.018182  13.018182       NaN\n",
      "1961-01-08   6.275000  13.208333   9.847659  2.485631\n",
      "1961-01-15   3.354167  14.276667   8.353214  4.040638\n",
      "1961-01-22   3.949167  16.277500   9.368413  4.393453\n",
      "1961-01-29  10.780833  22.925833  16.958095  4.500794\n",
      "1961-02-05   7.515000  17.082500  11.800357  3.545694\n",
      "1961-02-12  11.787500  20.712500  15.891548  3.159939\n",
      "1961-02-19   8.171667  18.559167  13.726825  3.785329\n",
      "1961-02-26   5.802500  20.741667  12.604286  5.462121\n",
      "1961-03-05   7.975000  15.059167  11.766766  2.504299\n",
      "1961-03-12   5.514167  16.424167  10.612579  3.871318\n",
      "1961-03-19   6.695000  15.479167  11.756310  3.183473\n",
      "1961-03-26   6.510833  14.815833  10.462857  3.137021\n",
      "1961-04-02   4.800000  16.305833  10.268433  4.234038\n",
      "1961-04-09   5.624167  13.283333   9.412381  2.716620\n",
      "1961-04-16   3.685833  11.347500   6.845595  2.762399\n",
      "1961-04-23   3.481667  15.389167  10.146667  4.366434\n",
      "1961-04-30   3.125833  12.818333   7.445000  3.270662\n",
      "1961-05-07   7.420000  20.215000  13.164048  4.759850\n",
      "1961-05-14   3.218333  16.276667   8.059802  4.665646\n",
      "1961-05-21   4.629167  10.938333   7.470258  2.287037\n",
      "1961-05-28   4.088333  11.774167   7.177956  2.969267\n",
      "1961-06-04   6.622500  12.718333   9.244643  2.239625\n",
      "1961-06-11   5.172500  11.928333   8.459048  2.487562\n",
      "1961-06-18   4.417500  15.506667  10.173810  3.936369\n",
      "1961-06-25   6.803333  12.733333  10.066548  2.064043\n",
      "1961-07-02   6.542500  13.161667   9.528810  2.549156\n",
      "1961-07-09   6.570833  15.763333  10.580099  3.361273\n",
      "1961-07-16   5.566667  17.337500  11.666190  3.948373\n",
      "1961-07-23   3.468333   7.615833   5.350952  1.458928\n",
      "1961-07-30   4.730833  16.607500   9.431071  4.337743\n",
      "1961-08-06   5.028333  14.451667   9.446786  3.500002\n",
      "1961-08-13   4.560000  11.551667   8.199206  2.660800\n",
      "1961-08-20   9.647500  17.493333  12.668413  2.713999\n",
      "1961-08-27   6.277500  17.878333  12.061786  4.049971\n",
      "1961-09-03   3.459167  16.788333   8.437381  5.142567\n",
      "1961-09-10   3.152500  13.861667   8.186786  3.954194\n",
      "1961-09-17   8.062500  24.441667  14.510833  5.483186\n",
      "1961-09-24   3.694167  11.441667   7.247937  2.589710\n",
      "1961-10-01   7.059167  16.183333  11.771091  3.324172\n",
      "1961-10-08   3.066667  13.888333   8.034167  4.235748\n",
      "1961-10-15   5.463333  14.854167   9.828115  3.391221\n",
      "1961-10-22   8.493333  22.820833  15.479643  5.630190\n",
      "1961-10-29   4.932500  21.636667  12.688631  6.371767\n",
      "1961-11-05   6.687500  15.774167  11.612857  3.198396\n",
      "1961-11-12   3.821667  11.541667   7.487262  2.923848\n",
      "1961-11-19   2.799167  14.465000   7.647024  4.243347\n",
      "1961-11-26   4.820000  13.704167   8.755516  3.228901\n",
      "1961-12-03   4.612500  16.809167   9.754762  4.516661\n",
      "1961-12-10   7.333333  19.025833  13.145357  4.398454\n",
      "1961-12-17   6.754167  18.894167  12.703095  4.450194\n",
      "1961-12-24   4.890833  17.237500   9.315714  4.662188\n"
     ]
    }
   ],
   "source": [
    "# Step 15: Calculate the min, max, and mean windspeeds and standard deviations of the windspeeds across all locations for each week (assume that the first week starts on January 2 1961) for the first 52 weeks\n",
    "weekly_stats = pd.DataFrame()\n",
    "weekly_stats['min'] = data.resample('W').min().iloc[:52].mean(axis=1)\n",
    "weekly_stats['max'] = data.resample('W').max().iloc[:52].mean(axis=1)\n",
    "weekly_stats['mean'] = data.resample('W').mean().iloc[:52].mean(axis=1)\n",
    "weekly_stats['std'] = data.resample('W').std().iloc[:52].mean(axis=1)\n",
    "print(weekly_stats)"
   ]
  },
  {
   "cell_type": "code",
   "execution_count": 49,
   "id": "837920eb",
   "metadata": {},
   "outputs": [
    {
     "name": "stdout",
     "output_type": "stream",
     "text": [
      "   order_id  quantity                              item_name  \\\n",
      "0         1         1           Chips and Fresh Tomato Salsa   \n",
      "1         1         1                                   Izze   \n",
      "2         1         1                       Nantucket Nectar   \n",
      "3         1         1  Chips and Tomatillo-Green Chili Salsa   \n",
      "4         2         2                           Chicken Bowl   \n",
      "5         3         1                           Chicken Bowl   \n",
      "6         3         1                          Side of Chips   \n",
      "7         4         1                          Steak Burrito   \n",
      "8         4         1                       Steak Soft Tacos   \n",
      "9         5         1                          Steak Burrito   \n",
      "\n",
      "                                  choice_description item_price  \n",
      "0                                                NaN     $2.39   \n",
      "1                                       [Clementine]     $3.39   \n",
      "2                                            [Apple]     $3.39   \n",
      "3                                                NaN     $2.39   \n",
      "4  [Tomatillo-Red Chili Salsa (Hot), [Black Beans...    $16.98   \n",
      "5  [Fresh Tomato Salsa (Mild), [Rice, Cheese, Sou...    $10.98   \n",
      "6                                                NaN     $1.69   \n",
      "7  [Tomatillo Red Chili Salsa, [Fajita Vegetables...    $11.75   \n",
      "8  [Tomatillo Green Chili Salsa, [Pinto Beans, Ch...     $9.25   \n",
      "9  [Fresh Tomato Salsa, [Rice, Black Beans, Pinto...     $9.25   \n"
     ]
    }
   ],
   "source": [
    "#Question 5\n",
    "# Step 1: Import the necessary libraries\n",
    "import pandas as pd\n",
    "\n",
    "# Step 2: Import the dataset from groceries.csv\n",
    "chipo = pd.read_csv(\"groceries.csv\", delimiter='\\t')\n",
    "\n",
    "# Step 3: Assign it to a variable called chipo\n",
    "\n",
    "# Step 4: See the first 10 entries\n",
    "print(chipo.head(10))"
   ]
  },
  {
   "cell_type": "code",
   "execution_count": 50,
   "id": "7b384fdc",
   "metadata": {},
   "outputs": [
    {
     "name": "stdout",
     "output_type": "stream",
     "text": [
      "Number of observations: 4622\n"
     ]
    }
   ],
   "source": [
    "# Step 5: What is the number of observations in the dataset?\n",
    "num_observations = chipo.shape[0]\n",
    "print(\"Number of observations:\", num_observations)\n"
   ]
  },
  {
   "cell_type": "code",
   "execution_count": 51,
   "id": "55be7a54",
   "metadata": {},
   "outputs": [
    {
     "name": "stdout",
     "output_type": "stream",
     "text": [
      "Number of columns: 5\n"
     ]
    }
   ],
   "source": [
    "# Step 6: What is the number of columns in the dataset?\n",
    "num_columns = chipo.shape[1]\n",
    "print(\"Number of columns:\", num_columns)"
   ]
  },
  {
   "cell_type": "code",
   "execution_count": 52,
   "id": "d11fd107",
   "metadata": {},
   "outputs": [
    {
     "name": "stdout",
     "output_type": "stream",
     "text": [
      "Column names: ['order_id', 'quantity', 'item_name', 'choice_description', 'item_price']\n"
     ]
    }
   ],
   "source": [
    "# Step 7: Print the name of all the columns.\n",
    "print(\"Column names:\", chipo.columns.tolist())"
   ]
  },
  {
   "cell_type": "code",
   "execution_count": 53,
   "id": "4b05a487",
   "metadata": {},
   "outputs": [
    {
     "name": "stdout",
     "output_type": "stream",
     "text": [
      "Index type: RangeIndex(start=0, stop=4622, step=1)\n"
     ]
    }
   ],
   "source": [
    "# Step 8: How is the dataset indexed?\n",
    "print(\"Index type:\", chipo.index)"
   ]
  },
  {
   "cell_type": "code",
   "execution_count": 54,
   "id": "3d124162",
   "metadata": {},
   "outputs": [
    {
     "name": "stdout",
     "output_type": "stream",
     "text": [
      "Most ordered item: Chicken Bowl\n"
     ]
    }
   ],
   "source": [
    "# Step 9: Which was the most-ordered item?\n",
    "most_ordered_item = chipo['item_name'].value_counts().idxmax()\n",
    "print(\"Most ordered item:\", most_ordered_item)\n"
   ]
  },
  {
   "cell_type": "code",
   "execution_count": 55,
   "id": "bab6a5f6",
   "metadata": {},
   "outputs": [
    {
     "name": "stdout",
     "output_type": "stream",
     "text": [
      "Number of items ordered: 761\n"
     ]
    }
   ],
   "source": [
    "# Step 10: For the most-ordered item, how many items were ordered?\n",
    "most_ordered_item_count = chipo[chipo['item_name'] == most_ordered_item]['quantity'].sum()\n",
    "print(\"Number of items ordered:\", most_ordered_item_count)"
   ]
  },
  {
   "cell_type": "code",
   "execution_count": 56,
   "id": "d75b6db0",
   "metadata": {},
   "outputs": [
    {
     "name": "stdout",
     "output_type": "stream",
     "text": [
      "Most ordered item in choice_description column: [Diet Coke]\n"
     ]
    }
   ],
   "source": [
    "# Step 11: What was the most ordered item in the choice_description column?\n",
    "most_ordered_item_choice = chipo['choice_description'].value_counts().idxmax()\n",
    "print(\"Most ordered item in choice_description column:\", most_ordered_item_choice)"
   ]
  },
  {
   "cell_type": "code",
   "execution_count": 57,
   "id": "710c1b06",
   "metadata": {},
   "outputs": [
    {
     "name": "stdout",
     "output_type": "stream",
     "text": [
      "Total items ordered: 4972\n"
     ]
    }
   ],
   "source": [
    "# Step 12: How many items were ordered in total?\n",
    "total_items_ordered = chipo['quantity'].sum()\n",
    "print(\"Total items ordered:\", total_items_ordered)\n"
   ]
  },
  {
   "cell_type": "code",
   "execution_count": 63,
   "id": "72ea4981",
   "metadata": {},
   "outputs": [
    {
     "name": "stdout",
     "output_type": "stream",
     "text": [
      "Item price type before lambda function: float64\n",
      "Revenue: 39237.02\n",
      "Item price type after lambda function: float64\n"
     ]
    }
   ],
   "source": [
    "# Step 13: Turn the item price into a float\n",
    "def convert_to_float(x):\n",
    "    if isinstance(x, str):\n",
    "        return float(x.replace('$', ''))\n",
    "    else:\n",
    "        return x\n",
    "\n",
    "chipo['item_price'] = chipo['item_price'].apply(convert_to_float)\n",
    "\n",
    "# Check the item price type\n",
    "print(\"Item price type before lambda function:\", chipo['item_price'].dtype)\n",
    "\n",
    "# Step 14: How much was the revenue for the period in the dataset?\n",
    "revenue = (chipo['quantity'] * chipo['item_price']).sum()\n",
    "print(\"Revenue:\", revenue)\n",
    "\n",
    "# Create a lambda function and change the type of item price\n",
    "chipo['item_price'] = chipo['item_price'].apply(lambda x: float(x))\n",
    "\n",
    "# Check the item price type\n",
    "print(\"Item price type after lambda function:\", chipo['item_price'].dtype)\n"
   ]
  },
  {
   "cell_type": "code",
   "execution_count": 64,
   "id": "2ef6d972",
   "metadata": {},
   "outputs": [
    {
     "name": "stdout",
     "output_type": "stream",
     "text": [
      "Revenue: 39237.02\n"
     ]
    }
   ],
   "source": [
    "# Step 14: How much was the revenue for the period in the dataset?\n",
    "revenue = (chipo['quantity'] * chipo['item_price']).sum()\n",
    "print(\"Revenue:\", revenue)"
   ]
  },
  {
   "cell_type": "code",
   "execution_count": 65,
   "id": "4498cafc",
   "metadata": {},
   "outputs": [
    {
     "name": "stdout",
     "output_type": "stream",
     "text": [
      "Number of orders: 1834\n"
     ]
    }
   ],
   "source": [
    "# Step 15: How many orders were made in the period?\n",
    "num_orders = chipo['order_id'].nunique()\n",
    "print(\"Number of orders:\", num_orders)\n"
   ]
  },
  {
   "cell_type": "code",
   "execution_count": 66,
   "id": "d49f3ac3",
   "metadata": {},
   "outputs": [
    {
     "name": "stdout",
     "output_type": "stream",
     "text": [
      "Average revenue per order: 21.39423118865867\n"
     ]
    }
   ],
   "source": [
    "# Step 16: What is the average revenue amount per order?\n",
    "avg_revenue_per_order = revenue / num_orders\n",
    "print(\"Average revenue per order:\", avg_revenue_per_order)\n"
   ]
  },
  {
   "cell_type": "code",
   "execution_count": null,
   "id": "9a7c5cd7",
   "metadata": {},
   "outputs": [],
   "source": [
    "# Step 17: How many different items are sold?\n",
    "num_different_items_sold = chipo['item_name'].nunique()\n",
    "print(\"Number of different items sold:\", num_different_items_sold)"
   ]
  },
  {
   "cell_type": "code",
   "execution_count": 2,
   "id": "22749e18",
   "metadata": {},
   "outputs": [],
   "source": [
    "#Question 6\n",
    "#pip install matplotlib\n",
    "import pandas as pd\n",
    "import matplotlib.pyplot as plt\n",
    "\n",
    "# Step 2: Read the data from the CSV file\n",
    "data = pd.read_csv(\"us-marriages-divorces-1867-2014.csv\")"
   ]
  },
  {
   "cell_type": "code",
   "execution_count": 3,
   "id": "c8449dc1",
   "metadata": {},
   "outputs": [
    {
     "name": "stdout",
     "output_type": "stream",
     "text": [
      "     Year  Marriages  Divorces  Population  Marriages_per_1000  \\\n",
      "0    1867   357000.0   10000.0    36970000                 9.7   \n",
      "1    1868   345000.0   10000.0    37885000                 9.1   \n",
      "2    1869   348000.0   11000.0    38870000                 9.0   \n",
      "3    1870   352000.0   11000.0    39905000                 8.8   \n",
      "4    1871   359000.0   12000.0    41010000                 8.8   \n",
      "..    ...        ...       ...         ...                 ...   \n",
      "140  2007  2197000.0  856000.0   301696000                 7.3   \n",
      "141  2008  2157000.0  844000.0   304543000                 7.1   \n",
      "142  2009  2080000.0  840000.0   307240000                 6.8   \n",
      "143  2010  2096000.0  872000.0   309776000                 6.8   \n",
      "144  2011  2118000.0  877000.0   312034000                 6.8   \n",
      "\n",
      "     Divorces_per_1000  \n",
      "0                  0.3  \n",
      "1                  0.3  \n",
      "2                  0.3  \n",
      "3                  0.3  \n",
      "4                  0.3  \n",
      "..                 ...  \n",
      "140                2.8  \n",
      "141                2.8  \n",
      "142                2.7  \n",
      "143                2.8  \n",
      "144                2.8  \n",
      "\n",
      "[145 rows x 6 columns]\n"
     ]
    }
   ],
   "source": [
    "print(data)"
   ]
  },
  {
   "cell_type": "code",
   "execution_count": 8,
   "id": "e11db209-33e5-45d0-9070-b61f3e131193",
   "metadata": {},
   "outputs": [
    {
     "data": {
      "image/png": "[encoded data removed]",
      "text/plain": [
       "<Figure size 1000x600 with 1 Axes>"
      ]
     },
     "metadata": {},
     "output_type": "display_data"
    }
   ],
   "source": [
    "# Step 3: Create a line plot\n",
    "plt.figure(figsize=(10, 6))\n",
    "\n",
    "plt.plot(data['Year'], data['Marriages_per_1000'], label='Marriages')\n",
    "plt.plot(data['Year'], data['Divorces_per_1000'], label='Divorces')\n",
    "# Step 4: Label both lines and show the legend\n",
    "plt.legend()\n",
    "# Step 5: Label the axes\n",
    "plt.xlabel('Year')\n",
    "plt.ylabel('Number per Capita')\n",
    "plt.title('Marriages and Divorces per Capita in the U.S. (1867-2014)')\n",
    "\n",
    "plt.grid(True)\n",
    "plt.tight_layout()\n",
    "\n",
    "# Show the plot\n",
    "plt.show()"
   ]
  },
  {
   "cell_type": "code",
   "execution_count": 12,
   "id": "bc053558-c81f-4aae-a0e9-e3e5308b0a60",
   "metadata": {},
   "outputs": [
    {
     "data": {
      "image/png": "[encoded data removed]",
      "text/plain": [
       "<Figure size 800x600 with 1 Axes>"
      ]
     },
     "metadata": {},
     "output_type": "display_data"
    }
   ],
   "source": [
    "#Question 7\n",
    "#Create a vertical bar chart comparing the number of marriages and divorces per\n",
    "#capita in the U.S. between 1900, 1950, and 2000.\n",
    "#Don't forget to label your axes!\n",
    "import pandas as pd\n",
    "import matplotlib.pyplot as plt\n",
    "\n",
    "# Step 1: Read the data from the CSV file\n",
    "data = pd.read_csv(\"us-marriages-divorces-1867-2014.csv\")\n",
    "\n",
    "# Step 2: Filter the data for the years 1900, 1950, and 2000\n",
    "years = [1900, 1950, 2000]\n",
    "filtered_data = data[data['Year'].isin(years)]\n",
    "\n",
    "# Step 3: Create a vertical bar chart\n",
    "plt.figure(figsize=(8, 6))\n",
    "\n",
    "plt.bar(filtered_data['Year'] - 0.2, filtered_data['Marriages_per_1000'], width=2.5, label='Marriages')\n",
    "plt.bar(filtered_data['Year'] + 0.2, filtered_data['Divorces_per_1000'], width=2.5, label='Divorces')\n",
    "\n",
    "# Label the axes\n",
    "plt.xlabel('Year')\n",
    "plt.ylabel('Number per Capita')\n",
    "plt.title('Marriages and Divorces per Capita in the U.S. (1900, 1950, 2000)')\n",
    "\n",
    "# Show the legend\n",
    "plt.legend()\n",
    "\n",
    "# Show the plot\n",
    "plt.show()"
   ]
  },
  {
   "cell_type": "code",
   "execution_count": 13,
   "id": "7e610213-8dd4-4ea1-8eb7-21a824ae3aef",
   "metadata": {},
   "outputs": [
    {
     "data": {
      "image/png": "[encoded data removed]",
      "text/plain": [
       "<Figure size 1000x600 with 1 Axes>"
      ]
     },
     "metadata": {},
     "output_type": "display_data"
    }
   ],
   "source": [
    "#Question 8\n",
    "import pandas as pd\n",
    "import matplotlib.pyplot as plt\n",
    "\n",
    "# Step 2: Read the data from the CSV file\n",
    "data = pd.read_csv(\"actor_kill_counts.csv\")\n",
    "\n",
    "# Step 3: Sort the actors by their kill counts\n",
    "data = data.sort_values(by='Count', ascending=True)\n",
    "\n",
    "# Step 4: Create a horizontal bar chart\n",
    "plt.figure(figsize=(10, 6))\n",
    "plt.barh(data['Actor'], data['Count'], color='skyblue')\n",
    "\n",
    "# Step 5: Label each bar with the corresponding actor's name\n",
    "for i, count in enumerate(data['Count']):\n",
    "    plt.text(count, i, str(count))\n",
    "\n",
    "# Step 6: Label the axes\n",
    "plt.xlabel('Kill Count')\n",
    "plt.ylabel('Actor')\n",
    "plt.title('Deadliest Actors in Hollywood')\n",
    "\n",
    "# Show the plot\n",
    "plt.show()"
   ]
  },
  {
   "cell_type": "code",
   "execution_count": null,
   "id": "3e2144d5-903e-4726-b78f-422cf2e9de2d",
   "metadata": {},
   "outputs": [],
   "source": []
  }
 ],
 "metadata": {
  "kernelspec": {
   "display_name": "Python 3 (ipykernel)",
   "language": "python",
   "name": "python3"
  },
  "language_info": {
   "codemirror_mode": {
    "name": "ipython",
    "version": 3
   },
   "file_extension": ".py",
   "mimetype": "text/x-python",
   "name": "python",
   "nbconvert_exporter": "python",
   "pygments_lexer": "ipython3",
   "version": "3.11.7"
  }
 },
 "nbformat": 4,
 "nbformat_minor": 5
}
